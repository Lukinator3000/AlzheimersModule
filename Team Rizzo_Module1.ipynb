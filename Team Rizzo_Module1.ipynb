{
 "cells": [
  {
   "cell_type": "markdown",
   "metadata": {},
   "source": [
    "# Module_1:\n",
    "\n",
    "## Team Members: \n",
    "**Shayn Peirce-Cottler and Rizzo Cottler**\n",
    "\n",
    "## Project Title: \n",
    "**Identifying trends and relationships between patient demographic data and hallmarks of Alzheimer's Disease**"
   ]
  },
  {
   "cell_type": "markdown",
   "metadata": {},
   "source": [
    "## Project Goal: \n",
    "This project seeks to understand: 1) if amyloid-beta levels significantly differ between the sexes in healthy patients and patients with Alzheimer's disease, and 2) if amyloid-beta is correlated with the age of death. "
   ]
  },
  {
   "cell_type": "markdown",
   "metadata": {},
   "source": [
    "## Disease Background: \n",
    "*Fill in information about 11 bullets:*\n",
    "\n",
    "* Prevalence & incidence\n",
    "* Economic burden\n",
    "* Risk factors (genetic, lifestyle) \n",
    "* Societal determinants\n",
    "* Symptoms\n",
    "* Diagnosis\n",
    "* Standard of care treatments (& reimbursement) \n",
    "* Disease progression & prognosis\n",
    "* Continuum of care providers\n",
    "* Biological mechanisms (anatomy, organ physiology, cell & molecular physiology)\n",
    "* Clinical Trials/next-gen therapies\n",
    "\n",
    "(Rizzo was too busy chasing squirrels to do this section.)"
   ]
  },
  {
   "cell_type": "markdown",
   "metadata": {},
   "source": [
    "## Data-Set: \n",
    "*(Describe the data set(s) you will analyze. Cite the source(s) of the data. Describe how the data was collected -- What techniques were used? What units are the data measured in? Etc.)*\n",
    "\n",
    "(Rizzo was too busy chasing rabbits to do this section.)"
   ]
  },
  {
   "cell_type": "markdown",
   "metadata": {},
   "source": [
    "## Data Analyis: \n",
    "*(Describe how you analyzed the data. This is where you should intersperse your Python code so that anyone reading this can run your code to perform the analysis that you did, generate your figures, etc.)*"
   ]
  },
  {
   "cell_type": "markdown",
   "metadata": {},
   "source": [
    "**Code Description:**\n",
    "\n",
    "The purpose of this code is to use patient data that is contained within two different published .csv files to create a \"Patient\" class characterized by attributes that describe demographic data (like sex, age at death, Thal Score) and biochemical data (like ameloid-beta levels and tau levels in their brains). "
   ]
  },
  {
   "cell_type": "code",
   "execution_count": 1,
   "metadata": {},
   "outputs": [],
   "source": [
    "# conda install -c conda-forge termcolor\n",
    "\n"
   ]
  },
  {
   "cell_type": "code",
   "execution_count": 1,
   "metadata": {},
   "outputs": [],
   "source": [
    "#1) BUILD OUR CLASS BY COMBINING TWO .csv FILES OF DATA\n",
    " \n",
    "import csv\n",
    "import warnings\n",
    "import matplotlib.pyplot as plt\n",
    "\n",
    "class Patient: \n",
    "\n",
    "    all_patients = []\n",
    "\n",
    "    death_age = []\n",
    "\n",
    "    education_lvl = {}\n",
    "\n",
    "    def __init__(self, DonorID, ABeta40: float , ABeta42: float, tTau: float, pTau: float):\n",
    "\n",
    "        self.DonorID = DonorID\n",
    "        self.ABeta40 = ABeta40\n",
    "        self.ABeta42 = ABeta42\n",
    "        self.tTau = tTau\n",
    "        self.pTau = pTau\n",
    "        self.sex = None\n",
    "        self.death_age = None\n",
    "        self.ed_lvl = None\n",
    "        self.cog_stat = None\n",
    "        self.age_symp_on = None\n",
    "        self.age_diag = None \n",
    "        self.head_inj = None\n",
    "        self.thal_score = None\n",
    "        Patient.all_patients.append(self)\n",
    "\n",
    "    def __repr__(self):\n",
    "        return f\"{self.DonorID} | sex: {self.sex} | ABeta40 {self.ABeta40} | tTau {self.tTau} | pTau {self.pTau} | Death Age {self.death_age} | Thal Score {self.thal_score}\"\n",
    "\n",
    "    def get_id(self):\n",
    "        return self.DonorID\n",
    "\n",
    "    def get_ABeta42(self):\n",
    "        return self.ABeta42\n",
    "    \n",
    "    def get_thal(self):\n",
    "        return self.thal_score\n",
    "    \n",
    "    def get_death_age(self):\n",
    "        return self.death_age\n",
    "\n",
    "\n",
    "    @classmethod\n",
    "    def combine_data(cls, filename: str):\n",
    "            with open(filename, encoding=\"utf8\") as f:\n",
    "                reader = csv.DictReader(f)\n",
    "                rows_of_patients = list(reader)\n",
    "                #for line in csv create object\n",
    "                for row in range(len(rows_of_patients)):\n",
    "                    if Patient.all_patients[row].DonorID == rows_of_patients[row][\"Donor ID\"]:\n",
    "                        if rows_of_patients[row][\"Sex\"] != \"\":\n",
    "                            Patient.all_patients[row].sex = rows_of_patients[row][\"Sex\"]\n",
    "\n",
    "                        if rows_of_patients[row][\"Age at Death\"] != \"\":\n",
    "                            Patient.all_patients[row].death_age = int(rows_of_patients[row][\"Age at Death\"])\n",
    "\n",
    "                        if rows_of_patients[row][\"Highest level of education\"] != \"\":\n",
    "                            Patient.all_patients[row].ed_lvl = rows_of_patients[row][\"Highest level of education\"]\n",
    "\n",
    "                        if rows_of_patients[row][\"Cognitive Status\"] != \"\":\n",
    "                            Patient.all_patients[row].cog_stat = rows_of_patients[row][\"Cognitive Status\"]\n",
    "\n",
    "                        if rows_of_patients[row][\"Age of onset cognitive symptoms\"] != \"\":\n",
    "                            Patient.all_patients[row].age_symp_on = int(rows_of_patients[row][\"Age of onset cognitive symptoms\"])\n",
    "\n",
    "                        if rows_of_patients[row][\"Age of Dementia diagnosis\"] != \"\":\n",
    "                            Patient.all_patients[row].age_diag = int(rows_of_patients[row][\"Age of Dementia diagnosis\"])\n",
    "\n",
    "                        if rows_of_patients[row][\"Known head injury\"] != \"\":\n",
    "                            Patient.all_patients[row].head_inj = rows_of_patients[row][\"Known head injury\"]\n",
    "\n",
    "                        if rows_of_patients[row][\"Thal\"] != \"\":\n",
    "                            Patient.all_patients[row].thal_score = int(rows_of_patients[row][\"Thal\"].split()[1])\n",
    "            \n",
    "                    else:\n",
    "                        warnings.warn(\"IDs do not match.\")\n",
    "   \n",
    "    @classmethod\n",
    "    def instantiate_from_csv(cls, filename: str, other_file: str):\n",
    "    #open csv and create list of all rows\n",
    "        with open(filename, encoding=\"utf8\") as f:\n",
    "            reader = csv.DictReader(f)\n",
    "            rows_of_patients = list(reader)\n",
    "            #for line in csv create object\n",
    "            for row in rows_of_patients:\n",
    "                Patient(\n",
    "                    DonorID = row['Donor ID'],\n",
    "                    ABeta40 = float(row['ABeta40 pg/ug']),\n",
    "                    ABeta42 = float(row['ABeta42 pg/ug']),\n",
    "                    tTau = float(row['tTAU pg/ug']),\n",
    "                    pTau = float(row['pTAU pg/ug'])\n",
    "                )\n",
    "            Patient.all_patients.sort(key = Patient.get_id)\n",
    "            Patient.combine_data(other_file)\n",
    "    "
   ]
  },
  {
   "cell_type": "code",
   "execution_count": 2,
   "metadata": {
    "scrolled": true
   },
   "outputs": [
    {
     "name": "stdout",
     "output_type": "stream",
     "text": [
      "H19.33.004 | sex: Female | ABeta40 0.019621053 | tTau 1552.414737 | pTau 1.901052632 | Death Age 80 | Thal Score 0\n",
      "H20.33.001 | sex: Male | ABeta40 0.215789474 | tTau 756.0905263 | pTau 2.737894737 | Death Age 82 | Thal Score 2\n",
      "H20.33.002 | sex: Female | ABeta40 0.000597895 | tTau 313.5252632 | pTau 2.615789474 | Death Age 97 | Thal Score 0\n",
      "H20.33.004 | sex: Male | ABeta40 60.76631579 | tTau 318.5284211 | pTau 7.412631579 | Death Age 86 | Thal Score 5\n",
      "H20.33.005 | sex: Female | ABeta40 5.136842105 | tTau 107.3484211 | pTau 1.327368421 | Death Age 99 | Thal Score 3\n",
      "H20.33.008 | sex: Female | ABeta40 3.991578947 | tTau 125.9336842 | pTau 2.569473684 | Death Age 92 | Thal Score 4\n",
      "H20.33.011 | sex: Female | ABeta40 11.84526316 | tTau 1141.492355 | pTau 8.536842105 | Death Age 93 | Thal Score 5\n",
      "H20.33.012 | sex: Female | ABeta40 2.529473684 | tTau 950.7410526 | pTau 4.545263158 | Death Age 91 | Thal Score 1\n",
      "H20.33.013 | sex: Male | ABeta40 1.127368421 | tTau 272.5084211 | pTau 3.106315789 | Death Age 94 | Thal Score 3\n",
      "H20.33.014 | sex: Female | ABeta40 0.526168105 | tTau 258.6242105 | pTau 3.398947368 | Death Age 82 | Thal Score 3\n",
      "H20.33.015 | sex: Male | ABeta40 1.944210526 | tTau 393.1831579 | pTau 1.827368421 | Death Age 88 | Thal Score 3\n",
      "H20.33.016 | sex: Female | ABeta40 2.671578947 | tTau 488.8989474 | pTau 2.282105263 | Death Age 93 | Thal Score 4\n",
      "H20.33.017 | sex: Male | ABeta40 52.64210526 | tTau 239.3778947 | pTau 5.881052632 | Death Age 69 | Thal Score 4\n",
      "H20.33.018 | sex: Female | ABeta40 196.732 | tTau 177.5663158 | pTau 5.110526316 | Death Age 81 | Thal Score 5\n",
      "H20.33.019 | sex: Female | ABeta40 1.718947368 | tTau 312.7442105 | pTau 2.884210526 | Death Age 87 | Thal Score 4\n",
      "H20.33.020 | sex: Male | ABeta40 145.2547368 | tTau 21.71894737 | pTau 3.873684211 | Death Age 81 | Thal Score 5\n",
      "H20.33.024 | sex: Male | ABeta40 5.095789474 | tTau 309.08 | pTau 5.222105263 | Death Age 90 | Thal Score 4\n",
      "H20.33.025 | sex: Male | ABeta40 3.532631579 | tTau 384.84 | pTau 3.691578947 | Death Age 94 | Thal Score 4\n",
      "H20.33.026 | sex: Female | ABeta40 31.56526316 | tTau 191.0505263 | pTau 12.56736842 | Death Age 75 | Thal Score 4\n",
      "H20.33.027 | sex: Female | ABeta40 1.843157895 | tTau 224.2431579 | pTau 3.365263158 | Death Age 99 | Thal Score 3\n",
      "H20.33.028 | sex: Female | ABeta40 1.127368421 | tTau 192.0284211 | pTau 2.927368421 | Death Age 94 | Thal Score 4\n",
      "H20.33.029 | sex: Female | ABeta40 1.633684211 | tTau 302.2315789 | pTau 3.191578947 | Death Age 91 | Thal Score 4\n",
      "H20.33.030 | sex: Female | ABeta40 17.22105263 | tTau 114.6231579 | pTau 6.56 | Death Age 86 | Thal Score 4\n",
      "H20.33.031 | sex: Female | ABeta40 2.004210526 | tTau 335.7452632 | pTau 7.827368421 | Death Age 87 | Thal Score 4\n",
      "H20.33.032 | sex: Male | ABeta40 91.74842105 | tTau 156.6284211 | pTau 12.47052632 | Death Age 98 | Thal Score 5\n",
      "H20.33.033 | sex: Male | ABeta40 20.21157895 | tTau 92.80210526 | pTau 3.712631579 | Death Age 68 | Thal Score 5\n",
      "H20.33.034 | sex: Female | ABeta40 4.794736842 | tTau 569.2336842 | pTau 2.593684211 | Death Age 85 | Thal Score 3\n",
      "H20.33.035 | sex: Female | ABeta40 0.030147368 | tTau 533.5926316 | pTau 4.036842105 | Death Age 99 | Thal Score 0\n",
      "H20.33.036 | sex: Female | ABeta40 3.594736842 | tTau 345.8894737 | pTau 1.28 | Death Age 100 | Thal Score 5\n",
      "H20.33.037 | sex: Female | ABeta40 53.01263158 | tTau 283.24 | pTau 4.569473684 | Death Age 96 | Thal Score 5\n",
      "H20.33.038 | sex: Female | ABeta40 5.176842105 | tTau 121.4084211 | pTau 4.016842105 | Death Age 90 | Thal Score 4\n",
      "H20.33.039 | sex: Female | ABeta40 2.062105263 | tTau 482.5421053 | pTau 3.865263158 | Death Age 96 | Thal Score 4\n",
      "H20.33.040 | sex: Male | ABeta40 1.412631579 | tTau 401.9305263 | pTau 1.809473684 | Death Age 98 | Thal Score 4\n",
      "H20.33.041 | sex: Female | ABeta40 5.522105263 | tTau 196.9957895 | pTau 2.406315789 | Death Age 91 | Thal Score 4\n",
      "H20.33.043 | sex: Male | ABeta40 97.8 | tTau 709.8136842 | pTau 5.782105263 | Death Age 85 | Thal Score 4\n",
      "H20.33.044 | sex: Male | ABeta40 0.007088421 | tTau 7005.543158 | pTau 5.630526316 | Death Age 81 | Thal Score 0\n",
      "H20.33.045 | sex: Female | ABeta40 981.444 | tTau 1122.432229 | pTau 5.415789474 | Death Age 77 | Thal Score 5\n",
      "H20.33.046 | sex: Male | ABeta40 25.29578947 | tTau 283.4368421 | pTau 15.91789474 | Death Age 94 | Thal Score 5\n",
      "H21.33.001 | sex: Male | ABeta40 0.000882947 | tTau 452.1894737 | pTau 3.038947368 | Death Age 80 | Thal Score 2\n",
      "H21.33.002 | sex: Female | ABeta40 93.67684211 | tTau 200.3842105 | pTau 7.317894737 | Death Age 70 | Thal Score 5\n",
      "H21.33.003 | sex: Male | ABeta40 0.000804526 | tTau 393.8768421 | pTau 3.092631579 | Death Age 78 | Thal Score 0\n",
      "H21.33.004 | sex: Male | ABeta40 0.001155368 | tTau 324.3410526 | pTau 3.475789474 | Death Age 93 | Thal Score 0\n",
      "H21.33.005 | sex: Male | ABeta40 1.655789474 | tTau 549.82 | pTau 3.131578947 | Death Age 95 | Thal Score 3\n",
      "H21.33.006 | sex: Male | ABeta40 12.87684211 | tTau 160.5831579 | pTau 3.169473684 | Death Age 97 | Thal Score 4\n",
      "H21.33.007 | sex: Female | ABeta40 11.41894737 | tTau 1179.673684 | pTau 6.410526316 | Death Age 86 | Thal Score 4\n",
      "H21.33.008 | sex: Female | ABeta40 18.994 | tTau 126.1673684 | pTau 6.175789474 | Death Age 91 | Thal Score 4\n",
      "H21.33.009 | sex: Female | ABeta40 189.2905263 | tTau 130.4147368 | pTau 4.948421053 | Death Age 65 | Thal Score 5\n",
      "H21.33.010 | sex: Female | ABeta40 66.77578947 | tTau 290.8684211 | pTau 1.922105263 | Death Age 93 | Thal Score 5\n",
      "H21.33.011 | sex: Female | ABeta40 0.000688421 | tTau 276.5368421 | pTau 3.052631579 | Death Age 83 | Thal Score 0\n",
      "H21.33.012 | sex: Female | ABeta40 0.215789474 | tTau 238.6705263 | pTau 3.669473684 | Death Age 93 | Thal Score 3\n",
      "H21.33.013 | sex: Female | ABeta40 43.23368421 | tTau 599.8652632 | pTau 1.630526316 | Death Age 94 | Thal Score 4\n",
      "H21.33.014 | sex: Male | ABeta40 4.864210526 | tTau 197.3589474 | pTau 1.598947368 | Death Age 92 | Thal Score 4\n",
      "H21.33.015 | sex: Male | ABeta40 0.661052632 | tTau 322.6021053 | pTau 5.006315789 | Death Age 98 | Thal Score 2\n",
      "H21.33.016 | sex: Female | ABeta40 0.009426737 | tTau 303.0031579 | pTau 4.090526316 | Death Age 94 | Thal Score 1\n",
      "H21.33.017 | sex: Female | ABeta40 1.412631579 | tTau 164.9431579 | pTau 2.075789474 | Death Age 92 | Thal Score 5\n",
      "H21.33.018 | sex: Female | ABeta40 0.263157895 | tTau 170.9052632 | pTau 1.995789474 | Death Age 89 | Thal Score 3\n",
      "H21.33.019 | sex: Male | ABeta40 0.001077758 | tTau 122.2210526 | pTau 2.208421053 | Death Age 75 | Thal Score 1\n",
      "H21.33.020 | sex: Male | ABeta40 1.547368421 | tTau 202.5905263 | pTau 3.328421053 | Death Age 82 | Thal Score 4\n",
      "H21.33.021 | sex: Male | ABeta40 0.001261053 | tTau 58.70105263 | pTau 1.324210526 | Death Age 99 | Thal Score 4\n",
      "H21.33.022 | sex: Female | ABeta40 0.000130411 | tTau 270.3010526 | pTau 3.095789474 | Death Age 82 | Thal Score 2\n",
      "H21.33.023 | sex: Male | ABeta40 0.000597684 | tTau 188.3642105 | pTau 1.683157895 | Death Age 102 | Thal Score 0\n",
      "H21.33.025 | sex: Female | ABeta40 21.20947368 | tTau 738.4673684 | pTau 2.74 | Death Age 88 | Thal Score 3\n",
      "H21.33.026 | sex: Female | ABeta40 76.91789474 | tTau 386.6842105 | pTau 6.217894737 | Death Age 90 | Thal Score 4\n",
      "H21.33.027 | sex: Male | ABeta40 31.71157895 | tTau 222.8189474 | pTau 2.709473684 | Death Age 92 | Thal Score 5\n",
      "H21.33.028 | sex: Male | ABeta40 0.072506632 | tTau 391.1515789 | pTau 3.065263158 | Death Age 72 | Thal Score 1\n",
      "H21.33.029 | sex: Male | ABeta40 17.82736842 | tTau 953.1326316 | pTau 2.04 | Death Age 89 | Thal Score 5\n",
      "H21.33.030 | sex: Male | ABeta40 1.827368421 | tTau 948.1368421 | pTau 5.212631579 | Death Age 89 | Thal Score 3\n",
      "H21.33.031 | sex: Male | ABeta40 34.42947368 | tTau 860.3778947 | pTau 4.793684211 | Death Age 84 | Thal Score 5\n",
      "H21.33.032 | sex: Female | ABeta40 1.375789474 | tTau 359.58 | pTau 3.14 | Death Age 98 | Thal Score 2\n",
      "H21.33.033 | sex: Female | ABeta40 3.967368421 | tTau 667.3905263 | pTau 4.462105263 | Death Age 83 | Thal Score 5\n",
      "H21.33.034 | sex: Female | ABeta40 12.15368421 | tTau 393.3484211 | pTau 6.388421053 | Death Age 90 | Thal Score 5\n",
      "H21.33.035 | sex: Female | ABeta40 7.491578947 | tTau 903.6189474 | pTau 5.306315789 | Death Age 97 | Thal Score 5\n",
      "H21.33.036 | sex: Female | ABeta40 5.302105263 | tTau 238.4989474 | pTau 5.577894737 | Death Age 93 | Thal Score 4\n",
      "H21.33.037 | sex: Female | ABeta40 0.036216842 | tTau 558.1957895 | pTau 2.334736842 | Death Age 88 | Thal Score 2\n",
      "H21.33.038 | sex: Female | ABeta40 0.079678842 | tTau 131.0326316 | pTau 2.977894737 | Death Age 84 | Thal Score 1\n",
      "H21.33.039 | sex: Female | ABeta40 1.450526316 | tTau 704.8010526 | pTau 4.146315789 | Death Age 88 | Thal Score 4\n",
      "H21.33.040 | sex: Male | ABeta40 0.065191789 | tTau 894.1368421 | pTau 3.850526316 | Death Age 83 | Thal Score 4\n",
      "H21.33.041 | sex: Female | ABeta40 5.010526316 | tTau 740.5831579 | pTau 3.327368421 | Death Age 98 | Thal Score 0\n",
      "H21.33.042 | sex: Female | ABeta40 20.53894737 | tTau 531.6515789 | pTau 2.507368421 | Death Age 91 | Thal Score 5\n",
      "H21.33.043 | sex: Female | ABeta40 1.593684211 | tTau 611.0 | pTau 4.404210526 | Death Age 95 | Thal Score 4\n",
      "H21.33.044 | sex: Female | ABeta40 7.130526316 | tTau 417.8947368 | pTau 3.662105263 | Death Age 88 | Thal Score 3\n",
      "H21.33.045 | sex: Female | ABeta40 21.42315789 | tTau 147.5652632 | pTau 11.48947368 | Death Age 94 | Thal Score 4\n",
      "H21.33.046 | sex: Male | ABeta40 2.421052632 | tTau 1124.777383 | pTau 3.129473684 | Death Age 97 | Thal Score 4\n",
      "H21.33.047 | sex: Male | ABeta40 0.000981053 | tTau 212.9031579 | pTau 3.575789474 | Death Age 90 | Thal Score 2\n"
     ]
    }
   ],
   "source": [
    "#2) PRINT OUR LIST OF PATIENTS\n",
    "\n",
    "from patient import Patient\n",
    "\n",
    "Patient.instantiate_from_csv('UpdatedLuminex.csv', 'UpdatedMetaData.csv')\n",
    "\n",
    "for patient in Patient.all_patients:\n",
    "    print(patient)\n"
   ]
  },
  {
   "cell_type": "markdown",
   "metadata": {},
   "source": [
    "Next, we want to sort the patients in order based on a specific attribute. In this case, we are sorting based on ABeta42 levels. "
   ]
  },
  {
   "cell_type": "code",
   "execution_count": 3,
   "metadata": {},
   "outputs": [
    {
     "name": "stdout",
     "output_type": "stream",
     "text": [
      "H21.33.019 | sex: Male | ABeta40 0.001077758 | tTau 122.2210526 | pTau 2.208421053 | Death Age 75 | Thal Score 1\n",
      "H21.33.047 | sex: Male | ABeta40 0.000981053 | tTau 212.9031579 | pTau 3.575789474 | Death Age 90 | Thal Score 2\n",
      "H21.33.023 | sex: Male | ABeta40 0.000597684 | tTau 188.3642105 | pTau 1.683157895 | Death Age 102 | Thal Score 0\n",
      "H21.33.038 | sex: Female | ABeta40 0.079678842 | tTau 131.0326316 | pTau 2.977894737 | Death Age 84 | Thal Score 1\n",
      "H21.33.011 | sex: Female | ABeta40 0.000688421 | tTau 276.5368421 | pTau 3.052631579 | Death Age 83 | Thal Score 0\n",
      "H20.33.002 | sex: Female | ABeta40 0.000597895 | tTau 313.5252632 | pTau 2.615789474 | Death Age 97 | Thal Score 0\n",
      "H21.33.028 | sex: Male | ABeta40 0.072506632 | tTau 391.1515789 | pTau 3.065263158 | Death Age 72 | Thal Score 1\n",
      "H20.33.044 | sex: Male | ABeta40 0.007088421 | tTau 7005.543158 | pTau 5.630526316 | Death Age 81 | Thal Score 0\n",
      "H21.33.001 | sex: Male | ABeta40 0.000882947 | tTau 452.1894737 | pTau 3.038947368 | Death Age 80 | Thal Score 2\n",
      "H21.33.003 | sex: Male | ABeta40 0.000804526 | tTau 393.8768421 | pTau 3.092631579 | Death Age 78 | Thal Score 0\n",
      "H21.33.037 | sex: Female | ABeta40 0.036216842 | tTau 558.1957895 | pTau 2.334736842 | Death Age 88 | Thal Score 2\n",
      "H21.33.040 | sex: Male | ABeta40 0.065191789 | tTau 894.1368421 | pTau 3.850526316 | Death Age 83 | Thal Score 4\n",
      "H20.33.035 | sex: Female | ABeta40 0.030147368 | tTau 533.5926316 | pTau 4.036842105 | Death Age 99 | Thal Score 0\n",
      "H21.33.016 | sex: Female | ABeta40 0.009426737 | tTau 303.0031579 | pTau 4.090526316 | Death Age 94 | Thal Score 1\n",
      "H21.33.004 | sex: Male | ABeta40 0.001155368 | tTau 324.3410526 | pTau 3.475789474 | Death Age 93 | Thal Score 0\n",
      "H19.33.004 | sex: Female | ABeta40 0.019621053 | tTau 1552.414737 | pTau 1.901052632 | Death Age 80 | Thal Score 0\n",
      "H21.33.021 | sex: Male | ABeta40 0.001261053 | tTau 58.70105263 | pTau 1.324210526 | Death Age 99 | Thal Score 4\n",
      "H20.33.001 | sex: Male | ABeta40 0.215789474 | tTau 756.0905263 | pTau 2.737894737 | Death Age 82 | Thal Score 2\n",
      "H21.33.012 | sex: Female | ABeta40 0.215789474 | tTau 238.6705263 | pTau 3.669473684 | Death Age 93 | Thal Score 3\n",
      "H20.33.034 | sex: Female | ABeta40 4.794736842 | tTau 569.2336842 | pTau 2.593684211 | Death Age 85 | Thal Score 3\n",
      "H21.33.005 | sex: Male | ABeta40 1.655789474 | tTau 549.82 | pTau 3.131578947 | Death Age 95 | Thal Score 3\n",
      "H21.33.032 | sex: Female | ABeta40 1.375789474 | tTau 359.58 | pTau 3.14 | Death Age 98 | Thal Score 2\n",
      "H21.33.022 | sex: Female | ABeta40 0.000130411 | tTau 270.3010526 | pTau 3.095789474 | Death Age 82 | Thal Score 2\n",
      "H21.33.025 | sex: Female | ABeta40 21.20947368 | tTau 738.4673684 | pTau 2.74 | Death Age 88 | Thal Score 3\n",
      "H21.33.015 | sex: Male | ABeta40 0.661052632 | tTau 322.6021053 | pTau 5.006315789 | Death Age 98 | Thal Score 2\n",
      "H21.33.018 | sex: Female | ABeta40 0.263157895 | tTau 170.9052632 | pTau 1.995789474 | Death Age 89 | Thal Score 3\n",
      "H20.33.040 | sex: Male | ABeta40 1.412631579 | tTau 401.9305263 | pTau 1.809473684 | Death Age 98 | Thal Score 4\n",
      "H20.33.014 | sex: Female | ABeta40 0.526168105 | tTau 258.6242105 | pTau 3.398947368 | Death Age 82 | Thal Score 3\n",
      "H20.33.005 | sex: Female | ABeta40 5.136842105 | tTau 107.3484211 | pTau 1.327368421 | Death Age 99 | Thal Score 3\n",
      "H21.33.030 | sex: Male | ABeta40 1.827368421 | tTau 948.1368421 | pTau 5.212631579 | Death Age 89 | Thal Score 3\n",
      "H20.33.028 | sex: Female | ABeta40 1.127368421 | tTau 192.0284211 | pTau 2.927368421 | Death Age 94 | Thal Score 4\n",
      "H21.33.008 | sex: Female | ABeta40 18.994 | tTau 126.1673684 | pTau 6.175789474 | Death Age 91 | Thal Score 4\n",
      "H21.33.046 | sex: Male | ABeta40 2.421052632 | tTau 1124.777383 | pTau 3.129473684 | Death Age 97 | Thal Score 4\n",
      "H21.33.017 | sex: Female | ABeta40 1.412631579 | tTau 164.9431579 | pTau 2.075789474 | Death Age 92 | Thal Score 5\n",
      "H20.33.016 | sex: Female | ABeta40 2.671578947 | tTau 488.8989474 | pTau 2.282105263 | Death Age 93 | Thal Score 4\n",
      "H21.33.010 | sex: Female | ABeta40 66.77578947 | tTau 290.8684211 | pTau 1.922105263 | Death Age 93 | Thal Score 5\n",
      "H20.33.013 | sex: Male | ABeta40 1.127368421 | tTau 272.5084211 | pTau 3.106315789 | Death Age 94 | Thal Score 3\n",
      "H20.33.039 | sex: Female | ABeta40 2.062105263 | tTau 482.5421053 | pTau 3.865263158 | Death Age 96 | Thal Score 4\n",
      "H20.33.015 | sex: Male | ABeta40 1.944210526 | tTau 393.1831579 | pTau 1.827368421 | Death Age 88 | Thal Score 3\n",
      "H20.33.019 | sex: Female | ABeta40 1.718947368 | tTau 312.7442105 | pTau 2.884210526 | Death Age 87 | Thal Score 4\n",
      "H20.33.029 | sex: Female | ABeta40 1.633684211 | tTau 302.2315789 | pTau 3.191578947 | Death Age 91 | Thal Score 4\n",
      "H21.33.043 | sex: Female | ABeta40 1.593684211 | tTau 611.0 | pTau 4.404210526 | Death Age 95 | Thal Score 4\n",
      "H20.33.027 | sex: Female | ABeta40 1.843157895 | tTau 224.2431579 | pTau 3.365263158 | Death Age 99 | Thal Score 3\n",
      "H21.33.033 | sex: Female | ABeta40 3.967368421 | tTau 667.3905263 | pTau 4.462105263 | Death Age 83 | Thal Score 5\n",
      "H21.33.044 | sex: Female | ABeta40 7.130526316 | tTau 417.8947368 | pTau 3.662105263 | Death Age 88 | Thal Score 3\n",
      "H21.33.014 | sex: Male | ABeta40 4.864210526 | tTau 197.3589474 | pTau 1.598947368 | Death Age 92 | Thal Score 4\n",
      "H21.33.020 | sex: Male | ABeta40 1.547368421 | tTau 202.5905263 | pTau 3.328421053 | Death Age 82 | Thal Score 4\n",
      "H21.33.027 | sex: Male | ABeta40 31.71157895 | tTau 222.8189474 | pTau 2.709473684 | Death Age 92 | Thal Score 5\n",
      "H21.33.009 | sex: Female | ABeta40 189.2905263 | tTau 130.4147368 | pTau 4.948421053 | Death Age 65 | Thal Score 5\n",
      "H20.33.031 | sex: Female | ABeta40 2.004210526 | tTau 335.7452632 | pTau 7.827368421 | Death Age 87 | Thal Score 4\n",
      "H20.33.032 | sex: Male | ABeta40 91.74842105 | tTau 156.6284211 | pTau 12.47052632 | Death Age 98 | Thal Score 5\n",
      "H20.33.020 | sex: Male | ABeta40 145.2547368 | tTau 21.71894737 | pTau 3.873684211 | Death Age 81 | Thal Score 5\n",
      "H20.33.012 | sex: Female | ABeta40 2.529473684 | tTau 950.7410526 | pTau 4.545263158 | Death Age 91 | Thal Score 1\n",
      "H21.33.042 | sex: Female | ABeta40 20.53894737 | tTau 531.6515789 | pTau 2.507368421 | Death Age 91 | Thal Score 5\n",
      "H21.33.045 | sex: Female | ABeta40 21.42315789 | tTau 147.5652632 | pTau 11.48947368 | Death Age 94 | Thal Score 4\n",
      "H20.33.030 | sex: Female | ABeta40 17.22105263 | tTau 114.6231579 | pTau 6.56 | Death Age 86 | Thal Score 4\n",
      "H20.33.011 | sex: Female | ABeta40 11.84526316 | tTau 1141.492355 | pTau 8.536842105 | Death Age 93 | Thal Score 5\n",
      "H20.33.043 | sex: Male | ABeta40 97.8 | tTau 709.8136842 | pTau 5.782105263 | Death Age 85 | Thal Score 4\n",
      "H20.33.026 | sex: Female | ABeta40 31.56526316 | tTau 191.0505263 | pTau 12.56736842 | Death Age 75 | Thal Score 4\n",
      "H20.33.037 | sex: Female | ABeta40 53.01263158 | tTau 283.24 | pTau 4.569473684 | Death Age 96 | Thal Score 5\n",
      "H21.33.013 | sex: Female | ABeta40 43.23368421 | tTau 599.8652632 | pTau 1.630526316 | Death Age 94 | Thal Score 4\n",
      "H20.33.046 | sex: Male | ABeta40 25.29578947 | tTau 283.4368421 | pTau 15.91789474 | Death Age 94 | Thal Score 5\n",
      "H21.33.002 | sex: Female | ABeta40 93.67684211 | tTau 200.3842105 | pTau 7.317894737 | Death Age 70 | Thal Score 5\n",
      "H21.33.036 | sex: Female | ABeta40 5.302105263 | tTau 238.4989474 | pTau 5.577894737 | Death Age 93 | Thal Score 4\n",
      "H21.33.039 | sex: Female | ABeta40 1.450526316 | tTau 704.8010526 | pTau 4.146315789 | Death Age 88 | Thal Score 4\n",
      "H20.33.004 | sex: Male | ABeta40 60.76631579 | tTau 318.5284211 | pTau 7.412631579 | Death Age 86 | Thal Score 5\n",
      "H20.33.038 | sex: Female | ABeta40 5.176842105 | tTau 121.4084211 | pTau 4.016842105 | Death Age 90 | Thal Score 4\n",
      "H21.33.006 | sex: Male | ABeta40 12.87684211 | tTau 160.5831579 | pTau 3.169473684 | Death Age 97 | Thal Score 4\n",
      "H21.33.041 | sex: Female | ABeta40 5.010526316 | tTau 740.5831579 | pTau 3.327368421 | Death Age 98 | Thal Score 0\n",
      "H20.33.025 | sex: Male | ABeta40 3.532631579 | tTau 384.84 | pTau 3.691578947 | Death Age 94 | Thal Score 4\n",
      "H20.33.008 | sex: Female | ABeta40 3.991578947 | tTau 125.9336842 | pTau 2.569473684 | Death Age 92 | Thal Score 4\n",
      "H20.33.036 | sex: Female | ABeta40 3.594736842 | tTau 345.8894737 | pTau 1.28 | Death Age 100 | Thal Score 5\n",
      "H20.33.024 | sex: Male | ABeta40 5.095789474 | tTau 309.08 | pTau 5.222105263 | Death Age 90 | Thal Score 4\n",
      "H20.33.033 | sex: Male | ABeta40 20.21157895 | tTau 92.80210526 | pTau 3.712631579 | Death Age 68 | Thal Score 5\n",
      "H21.33.031 | sex: Male | ABeta40 34.42947368 | tTau 860.3778947 | pTau 4.793684211 | Death Age 84 | Thal Score 5\n",
      "H20.33.045 | sex: Female | ABeta40 981.444 | tTau 1122.432229 | pTau 5.415789474 | Death Age 77 | Thal Score 5\n",
      "H21.33.035 | sex: Female | ABeta40 7.491578947 | tTau 903.6189474 | pTau 5.306315789 | Death Age 97 | Thal Score 5\n",
      "H21.33.029 | sex: Male | ABeta40 17.82736842 | tTau 953.1326316 | pTau 2.04 | Death Age 89 | Thal Score 5\n",
      "H21.33.034 | sex: Female | ABeta40 12.15368421 | tTau 393.3484211 | pTau 6.388421053 | Death Age 90 | Thal Score 5\n",
      "H20.33.017 | sex: Male | ABeta40 52.64210526 | tTau 239.3778947 | pTau 5.881052632 | Death Age 69 | Thal Score 4\n",
      "H20.33.041 | sex: Female | ABeta40 5.522105263 | tTau 196.9957895 | pTau 2.406315789 | Death Age 91 | Thal Score 4\n",
      "H21.33.026 | sex: Female | ABeta40 76.91789474 | tTau 386.6842105 | pTau 6.217894737 | Death Age 90 | Thal Score 4\n",
      "H21.33.007 | sex: Female | ABeta40 11.41894737 | tTau 1179.673684 | pTau 6.410526316 | Death Age 86 | Thal Score 4\n",
      "H20.33.018 | sex: Female | ABeta40 196.732 | tTau 177.5663158 | pTau 5.110526316 | Death Age 81 | Thal Score 5\n"
     ]
    }
   ],
   "source": [
    "#3) SORT OUR LIST OF PATIENTS\n",
    "\n",
    "Patient.all_patients.sort(key=Patient.get_ABeta42, reverse=False)\n",
    "\n",
    "for patient in Patient.all_patients:\n",
    "    print(patient)\n"
   ]
  },
  {
   "cell_type": "markdown",
   "metadata": {},
   "source": [
    "Now, we will use dictionaries to sort first based on highest education level, then based on Thal score within each education level."
   ]
  },
  {
   "cell_type": "code",
   "execution_count": 4,
   "metadata": {},
   "outputs": [],
   "source": [
    "#4) BUILD DICTIONARIES TO DO SORTING AND SUB-SORTING\n",
    "\n",
    "@classmethod\n",
    "def sort_ed(cls):\n",
    "    for patient in Patient.all_patients:\n",
    "        Patient.education_lvl.update({patient.ed_lvl: []})\n",
    "    for patient in Patient.all_patients:\n",
    "        Patient.education_lvl[patient.ed_lvl].append(patient)\n",
    "\n",
    "#need to update this section to fit our data set comparing education and Tau scores!!!!!\n",
    "#focus on tTau first and then create another data set based on pTau scores!!!!!\n",
    "@classmethod\n",
    "def subsort_thal(cls):\n",
    "    for key in Patient.education_lvl:\n",
    "        values = Patient.education_lvl.get(key)\n",
    "        values.sort(key = Patient.get_thal)\n",
    "        Patient.education_lvl.update({key: values})\n"
   ]
  },
  {
   "cell_type": "code",
   "execution_count": 5,
   "metadata": {},
   "outputs": [
    {
     "ename": "ModuleNotFoundError",
     "evalue": "No module named 'termcolor'",
     "output_type": "error",
     "traceback": [
      "\u001b[1;31m---------------------------------------------------------------------------\u001b[0m",
      "\u001b[1;31mModuleNotFoundError\u001b[0m                       Traceback (most recent call last)",
      "Cell \u001b[1;32mIn[5], line 3\u001b[0m\n\u001b[0;32m      1\u001b[0m \u001b[38;5;66;03m#5) SORT THE SUB-LISTS WITHIN THE LIST AND PRINT IT\u001b[39;00m\n\u001b[1;32m----> 3\u001b[0m \u001b[38;5;28;01mfrom\u001b[39;00m \u001b[38;5;21;01mtermcolor\u001b[39;00m \u001b[38;5;28;01mimport\u001b[39;00m colored\n\u001b[0;32m      5\u001b[0m Patient\u001b[38;5;241m.\u001b[39msort_ed()\n\u001b[0;32m      6\u001b[0m Patient\u001b[38;5;241m.\u001b[39msubsort_thal()\n",
      "\u001b[1;31mModuleNotFoundError\u001b[0m: No module named 'termcolor'"
     ]
    }
   ],
   "source": [
    "#5) SORT THE SUB-LISTS WITHIN THE LIST AND PRINT IT\n",
    "\n",
    "from termcolor import colored\n",
    "\n",
    "Patient.sort_ed()\n",
    "Patient.subsort_thal()\n",
    "#change to fit Tau score function above!!!!!\n",
    "\n",
    "for key in Patient.education_lvl:\n",
    "    print(colored(key,\"red\"))\n",
    "    for patient in Patient.education_lvl.get(key):\n",
    "        print(patient)\n",
    "    print()\n",
    "\n"
   ]
  },
  {
   "cell_type": "markdown",
   "metadata": {},
   "source": [
    "Now, we will create a filter that will return a list of objects with matching attributes to the parameters given. "
   ]
  },
  {
   "cell_type": "code",
   "execution_count": null,
   "metadata": {},
   "outputs": [],
   "source": [
    "#6) MAKE A FILTER TO PULL OUT PATIENTS WITH SPECIIFC ATTRIBUTES\n",
    "\n",
    "@classmethod\n",
    "def filter(cls, list, ABeta40:float =\"any\", ABeta42:float =\"any\", tTau:float= \"any\", pTau:float =\"any\", sex:str =\"any\", death_age:int =\"any\", ed_lvl:str =\"any\", cog_stat:str =\"any\", age_symp_on:int =\"any\", age_diag:int =\"any\", head_inj:str =\"any\", thal_score:int =\"any\"):\n",
    "        all_patients = list\n",
    "        remove_list = []\n",
    "        attr_list = (\n",
    "                    ABeta40,\n",
    "                    ABeta42,\n",
    "                    tTau,\n",
    "                    pTau,\n",
    "                    sex,\n",
    "                    death_age,\n",
    "                    ed_lvl,\n",
    "                    cog_stat,\n",
    "                    age_symp_on,\n",
    "                    age_diag,\n",
    "                    head_inj,\n",
    "                    thal_score\n",
    "                    )\n",
    "        attr_name = (\n",
    "                    \"ABeta40\",\n",
    "                    \"ABeta42\",\n",
    "                    \"tTau\",\n",
    "                    \"pTau\",\n",
    "                    \"sex\",\n",
    "                    \"death_age\",\n",
    "                    \"ed_lvl\",\n",
    "                    \"cog_stat\",\n",
    "                    \"age_symp_on\",\n",
    "                    \"age_diag\",\n",
    "                    \"head_inj\",\n",
    "                    \"thal_score\"\n",
    "                    )\n",
    "        for attr in range(len(attr_list)):\n",
    "            if attr_list[attr] != \"any\":\n",
    "                for patient in all_patients:\n",
    "                    if getattr(patient,attr_name[attr]) != attr_list[attr]:\n",
    "                        remove_list.append(patient)\n",
    "                all_patients = [patient for patient in all_patients if patient not in remove_list]\n",
    "                remove_list.clear()\n",
    "        \n",
    "        return all_patients\n",
    "\n"
   ]
  },
  {
   "cell_type": "markdown",
   "metadata": {},
   "source": [
    "We will use the list returned by filter to count the number of healthy and diseased female and male patients in the dataset.  "
   ]
  },
  {
   "cell_type": "code",
   "execution_count": null,
   "metadata": {},
   "outputs": [
    {
     "name": "stdout",
     "output_type": "stream",
     "text": [
      "Female Healthy Patients = 24 | Male Healthy Patients = 18\n",
      "Female Diseased Patients = 27 | Male Diseased Patients = 15\n"
     ]
    }
   ],
   "source": [
    "#7) USE OUR FILTER TO PULL OUT AND COUNT SUB-SETS OF PATIENTS THAT ARE FILTERED\n",
    "\n",
    "fem_healty_patients = range(len(Patient.filter(Patient.all_patients, sex = \"Female\", cog_stat = \"No dementia\")))\n",
    "male_healthy_patients = range(len(Patient.filter(Patient.all_patients, sex = \"Male\", cog_stat = \"No dementia\")))\n",
    "fem_diseased_patients = range(len(Patient.filter(Patient.all_patients, sex = \"Female\", cog_stat = \"Dementia\")))\n",
    "male_diseased_patients = range(len(Patient.filter(Patient.all_patients, sex = \"Male\", cog_stat = \"Dementia\")))\n",
    "\n",
    "print(f'Female Healthy Patients = {len(fem_healty_patients)} | Male Healthy Patients = {len(male_healthy_patients)}')\n",
    "print(f'Female Diseased Patients = {len(fem_diseased_patients)} | Male Diseased Patients = {len(male_diseased_patients)}')\n",
    "\n"
   ]
  },
  {
   "cell_type": "markdown",
   "metadata": {},
   "source": [
    "Now we will plot using a bar graph, the ABeta42 levels for all females and males and perform a T-test to see if they are significantly different from each other. "
   ]
  },
  {
   "cell_type": "code",
   "execution_count": null,
   "metadata": {},
   "outputs": [
    {
     "name": "stdout",
     "output_type": "stream",
     "text": [
      "x_fem_bar = 82.28295891770588, ABeta_fem_stdev 201.04034343117254\n",
      "x_male_bar = 43.331496222272726, ABeta_male_stdev 52.167351666865606\n",
      "t-statistic: 1.0874349478531717\n",
      "p-value: 0.2800306894328192\n"
     ]
    },
    {
     "data": {
      "image/png": "[encoded data removed]",
      "text/plain": [
       "<Figure size 640x480 with 1 Axes>"
      ]
     },
     "metadata": {},
     "output_type": "display_data"
    }
   ],
   "source": [
    "#7) PLOT A BAR GRAPH OF THE SORTED DATA\n",
    "\n",
    "from patient import Patient\n",
    "from termcolor import colored\n",
    "from matplotlib import pyplot as plt\n",
    "from scipy import stats\n",
    "import numpy as np\n",
    "import statistics \n",
    "\n",
    "\n",
    "# Patient.instantiate_from_csv('UpdatedLuminex.csv', 'UpdatedMetaData.csv')\n",
    "\n",
    "\n",
    "ABeta42_fem_vals = []\n",
    "ABeta42_male_vals = []\n",
    "\n",
    "for patient in Patient.filter(Patient.all_patients, sex = \"Female\"):\n",
    "     ABeta42_fem_vals.append(patient.ABeta42)\n",
    "for patient in Patient.filter(Patient.all_patients, sex = \"Male\"):\n",
    "     ABeta42_male_vals.append(patient.ABeta42)\n",
    "\n",
    "x_fem_bar = (statistics.mean(ABeta42_fem_vals))\n",
    "x_male_bar = (statistics.mean(ABeta42_male_vals))\n",
    "\n",
    "ABeta_fem_stdev = (statistics.stdev(ABeta42_fem_vals))\n",
    "ABeta_male_stdev = (statistics.stdev(ABeta42_male_vals))\n",
    "\n",
    "print(f'x_fem_bar = {x_fem_bar}, ABeta_fem_stdev {ABeta_fem_stdev}')\n",
    "print(f'x_male_bar = {x_male_bar}, ABeta_male_stdev {ABeta_male_stdev}')\n",
    "\n",
    "x_fem_vals = range(len(Patient.filter(Patient.all_patients, sex = \"Female\")))\n",
    "x_male_vals = range(len(Patient.filter(Patient.all_patients, sex = \"Male\")))\n",
    "\n",
    "sex_cols = ['Female', 'Male']\n",
    "mean_sex_ABeta42 = [x_fem_bar, x_male_bar]\n",
    "stdev_sex_ABeta42 = [ABeta_fem_stdev, ABeta_male_stdev]\n",
    "colors = [\"pink\", \"blue\"]\n",
    "yerr = [np.zeros(len(mean_sex_ABeta42)), stdev_sex_ABeta42]\n",
    "\n",
    "# Equal variance assumed\n",
    "t_stat, p_val = stats.ttest_ind(ABeta42_fem_vals, ABeta42_male_vals)\n",
    "print(\"t-statistic:\", t_stat)\n",
    "print(\"p-value:\", p_val)\n",
    "\n",
    "plt.bar(sex_cols, mean_sex_ABeta42, yerr=yerr, capsize=10, color=[\"red\", \"blue\"])\n",
    "plt.title(\"ABeta42 Levels\")\n",
    "plt.xlabel(\"Sex\")\n",
    "plt.ylabel(\"Abeta42\")\n",
    "plt.show()"
   ]
  },
  {
   "cell_type": "markdown",
   "metadata": {},
   "source": [
    "Now we will plot using a bar graph, the ABeta42 levels for only diseased females and males and perform a T-test to see if they are significantly different from each other. "
   ]
  },
  {
   "cell_type": "code",
   "execution_count": null,
   "metadata": {},
   "outputs": [
    {
     "name": "stdout",
     "output_type": "stream",
     "text": [
      "x_fem_diseased_bar = 116.09062038707407, ABeta42_fem_diseased_stdev 268.0393488223147\n",
      "x_male_diseased_bar = 63.147719297933335, ABeta42_male_diseased_stdev 62.18533533479372\n",
      "t-statistic: 0.7499829795718433\n",
      "p-value: 0.45765375434318656\n"
     ]
    },
    {
     "data": {
      "image/png": "[encoded data removed]",
      "text/plain": [
       "<Figure size 640x480 with 1 Axes>"
      ]
     },
     "metadata": {},
     "output_type": "display_data"
    }
   ],
   "source": [
    "#8) PLOT A BAR GRAPH OF THE FURTHER SORTED DATA\n",
    "\n",
    "ABeta42_fem_diseased_vals = []\n",
    "ABeta42_male_diseased_vals = []\n",
    "\n",
    "for patient in Patient.filter(Patient.all_patients, sex = \"Female\", cog_stat = \"Dementia\"):\n",
    "     ABeta42_fem_diseased_vals.append(patient.ABeta42)\n",
    "for patient in Patient.filter(Patient.all_patients, sex = \"Male\", cog_stat = \"Dementia\"):\n",
    "     ABeta42_male_diseased_vals.append(patient.ABeta42)\n",
    "\n",
    "x_fem_diseased_bar = (statistics.mean(ABeta42_fem_diseased_vals))\n",
    "x_male_diseased_bar = (statistics.mean(ABeta42_male_diseased_vals))\n",
    "\n",
    "ABeta42_fem_diseased_stdev = (statistics.stdev(ABeta42_fem_diseased_vals))\n",
    "ABeta42_male_diseased_stdev = (statistics.stdev(ABeta42_male_diseased_vals))\n",
    "\n",
    "print(f'x_fem_diseased_bar = {x_fem_diseased_bar}, ABeta42_fem_diseased_stdev {ABeta42_fem_diseased_stdev}')\n",
    "print(f'x_male_diseased_bar = {x_male_diseased_bar}, ABeta42_male_diseased_stdev {ABeta42_male_diseased_stdev}')\n",
    "\n",
    "x_fem_diseased_vals = range(len(Patient.filter(Patient.all_patients, sex = \"Female\")))\n",
    "x_male_diseased_vals = range(len(Patient.filter(Patient.all_patients, sex = \"Male\")))\n",
    "\n",
    "sex_diseased_cols = ['Diseased Females', 'Diseased Males']\n",
    "mean_sex_diseased_ABeta42 = [x_fem_diseased_bar, x_male_diseased_bar]\n",
    "stdev_sex_diseased_ABeta42 = [ABeta42_fem_diseased_stdev, ABeta42_male_diseased_stdev]\n",
    "colors = [\"pink\", \"blue\"]\n",
    "yerr = [np.zeros(len(mean_sex_diseased_ABeta42)), stdev_sex_diseased_ABeta42]\n",
    "\n",
    "# Equal variance assumed\n",
    "t_stat, p_val = stats.ttest_ind(ABeta42_fem_diseased_vals, ABeta42_male_diseased_vals)\n",
    "print(\"t-statistic:\", t_stat)\n",
    "print(\"p-value:\", p_val)\n",
    "\n",
    "plt.bar(sex_diseased_cols, mean_sex_diseased_ABeta42, yerr=yerr, capsize=10, color=[\"pink\", \"skyblue\"])\n",
    "plt.title(\"ABeta42 Levels in Diseased Patients\")\n",
    "plt.xlabel(\"Sex\")\n",
    "plt.ylabel(\"Abeta42\")\n",
    "plt.show()\n"
   ]
  },
  {
   "cell_type": "markdown",
   "metadata": {},
   "source": [
    "Next, we will make a scatterplot of the data."
   ]
  },
  {
   "cell_type": "code",
   "execution_count": null,
   "metadata": {},
   "outputs": [
    {
     "name": "stdout",
     "output_type": "stream",
     "text": [
      "[[75, 90, 102, 84, 83, 97, 72, 81, 80, 78, 88, 83, 99, 94, 93, 80, 99, 82, 93, 85, 95, 98, 82, 88, 98, 89, 98, 82, 99, 89, 94, 91, 97, 92, 93, 93, 94, 96, 88, 87, 91, 95, 99, 83, 88, 92, 82, 92, 65, 87, 98, 81, 91, 91, 94, 86, 93, 85, 75, 96, 94, 94, 70, 93, 88, 86, 90, 97, 98, 94, 92, 100, 90, 68, 84, 77, 97, 89, 90, 69, 91, 90, 86, 81]]\n",
      "[[0.019621053, 0.049052632, 0.114736842, 0.122631579, 0.137347368, 0.147157895, 0.204385895, 0.245263158, 0.405263158, 0.405263158, 0.449649126, 0.490526316, 0.525263158, 0.525263158, 0.670526316, 0.971578947, 2.672631579, 2.744210526, 3.502105263, 4.96, 6.554736842, 6.777894737, 7.666315789, 8.842105263, 10.09578947, 10.98842105, 12.69789474, 16.13789474, 16.15684211, 18.54736842, 18.94736842, 18.994, 19.19578947, 20.18210526, 21.27368421, 24.63789474, 24.78105263, 27.33473684, 27.60947368, 28.81368421, 28.85473684, 29.89263158, 29.95578947, 31.76315789, 33.63789474, 35.27578947, 38.15894737, 39.83789474, 40.19894737, 42.51368421, 44.25684211, 45.72842105, 47.70947368, 47.93263158, 53.87894737, 58.26631579, 60.51157895, 60.95368421, 63.37473684, 67.65473684, 68.36631579, 69.98842105, 74.77684211, 75.78947368, 76.22631579, 80.26631579, 81.13789474, 82.97263158, 88.16947368, 95.79263158, 101.8305263, 102.4557895, 105.1042105, 123.3684211, 124.4347368, 142.778, 143.4642105, 146.8621053, 161.0947368, 209.4347368, 242.5863158, 263.5368421, 287.412, 1412.566961]]\n"
     ]
    }
   ],
   "source": [
    "#9) GET PATIENT ATTRIBUTES THAT WE WANT TO COMPARE ON A SCATTER PLOT\n",
    "\n",
    "death_age_list = []\n",
    "ABeta42 = []\n",
    "\n",
    "for patient in Patient.all_patients:\n",
    "       death_age_list.append(patient.death_age)\n",
    "\n",
    "for patient in Patient.all_patients:\n",
    "       ABeta42.append(patient.ABeta42)\n",
    "\n",
    "X = [death_age_list]  # Independent variable\n",
    "y = [ABeta42]   # Dependent variable\n",
    "\n",
    "print(X)\n",
    "print(y)"
   ]
  },
  {
   "cell_type": "markdown",
   "metadata": {},
   "source": [
    "Next, we will select the independent variable (which will be plotted on the x-axis) and the dependent variable (which will be plotted on the y-axis). For this example, we will define:\n",
    "\n",
    "Independent Variable (x-axis) = age of death\n",
    "\n",
    "and\n",
    "\n",
    "Dependent Variable (y-axis) = ABeta42 levels\n"
   ]
  },
  {
   "cell_type": "markdown",
   "metadata": {},
   "source": [
    "Now, we will visualize the data using a scatter plot. "
   ]
  },
  {
   "cell_type": "code",
   "execution_count": null,
   "metadata": {},
   "outputs": [
    {
     "data": {
      "image/png": "[encoded data removed]",
      "text/plain": [
       "<Figure size 640x480 with 1 Axes>"
      ]
     },
     "metadata": {},
     "output_type": "display_data"
    }
   ],
   "source": [
    "#10) VISUALIZE DATA ON A SCATTER PLOT\n",
    "\n",
    "plt.scatter(X, y, color='blue')\n",
    "plt.xlabel('Age of Death')\n",
    "plt.ylabel('ABeta42')\n",
    "plt.title('Scatter Plot of Age of Death vs ABeta42')\n",
    "plt.show()\n"
   ]
  },
  {
   "cell_type": "markdown",
   "metadata": {},
   "source": [
    "Next, we will print these data and export them in two columns as a .csv file, called 'patient_data.csv'. "
   ]
  },
  {
   "cell_type": "code",
   "execution_count": null,
   "metadata": {},
   "outputs": [
    {
     "name": "stdout",
     "output_type": "stream",
     "text": [
      "[75, 90, 102, 84, 83, 97, 72, 81, 80, 78, 88, 83, 99, 94, 93, 80, 99, 82, 93, 85, 95, 98, 82, 88, 98, 89, 98, 82, 99, 89, 94, 91, 97, 92, 93, 93, 94, 96, 88, 87, 91, 95, 99, 83, 88, 92, 82, 92, 65, 87, 98, 81, 91, 91, 94, 86, 93, 85, 75, 96, 94, 94, 70, 93, 88, 86, 90, 97, 98, 94, 92, 100, 90, 68, 84, 77, 97, 89, 90, 69, 91, 90, 86, 81]\n",
      "[0.019621053, 0.049052632, 0.114736842, 0.122631579, 0.137347368, 0.147157895, 0.204385895, 0.245263158, 0.405263158, 0.405263158, 0.449649126, 0.490526316, 0.525263158, 0.525263158, 0.670526316, 0.971578947, 2.672631579, 2.744210526, 3.502105263, 4.96, 6.554736842, 6.777894737, 7.666315789, 8.842105263, 10.09578947, 10.98842105, 12.69789474, 16.13789474, 16.15684211, 18.54736842, 18.94736842, 18.994, 19.19578947, 20.18210526, 21.27368421, 24.63789474, 24.78105263, 27.33473684, 27.60947368, 28.81368421, 28.85473684, 29.89263158, 29.95578947, 31.76315789, 33.63789474, 35.27578947, 38.15894737, 39.83789474, 40.19894737, 42.51368421, 44.25684211, 45.72842105, 47.70947368, 47.93263158, 53.87894737, 58.26631579, 60.51157895, 60.95368421, 63.37473684, 67.65473684, 68.36631579, 69.98842105, 74.77684211, 75.78947368, 76.22631579, 80.26631579, 81.13789474, 82.97263158, 88.16947368, 95.79263158, 101.8305263, 102.4557895, 105.1042105, 123.3684211, 124.4347368, 142.778, 143.4642105, 146.8621053, 161.0947368, 209.4347368, 242.5863158, 263.5368421, 287.412, 1412.566961]\n",
      "CSV file 'patient_data.csv' has been created.\n"
     ]
    }
   ],
   "source": [
    "#11) EXPORT DATA TO A .csv FILE\n",
    "\n",
    "import pandas as pd\n",
    "\n",
    "print(death_age_list)\n",
    "print(ABeta42)\n",
    "\n",
    "# Create a DataFrame\n",
    "df = pd.DataFrame({\n",
    "    'Age of Death': death_age_list,\n",
    "    'ABeta42': ABeta42\n",
    "})\n",
    "\n",
    "# Write to CSV\n",
    "df.to_csv('patient_data.csv', index=False)\n",
    "\n",
    "print(\"CSV file 'patient_data.csv' has been created.\")"
   ]
  },
  {
   "cell_type": "markdown",
   "metadata": {},
   "source": [
    "Next we will load the libraries needed to do a linear regression. "
   ]
  },
  {
   "cell_type": "code",
   "execution_count": null,
   "metadata": {},
   "outputs": [],
   "source": [
    "#12) LOAD LIBRARIES FOR A LINEAR REGRESSION\n",
    "\n",
    "from sklearn.linear_model import LinearRegression\n",
    "from sklearn.metrics import r2_score"
   ]
  },
  {
   "cell_type": "markdown",
   "metadata": {},
   "source": [
    "Next we will load the data set from the .csv file we just made."
   ]
  },
  {
   "cell_type": "code",
   "execution_count": null,
   "metadata": {},
   "outputs": [],
   "source": [
    "#13) LOAD DATA SET FOR A LINEAR REGRESSION\n",
    "\n",
    "df = pd.read_csv(\"patient_data.csv\")"
   ]
  },
  {
   "cell_type": "markdown",
   "metadata": {},
   "source": [
    "Next we will select variables to plot and make a linear regression. We will use:\n",
    "- **X (Independent Variable):** Age of death\n",
    "- **Y (Dependent Variable):** ABeta42 pg/ug"
   ]
  },
  {
   "cell_type": "code",
   "execution_count": null,
   "metadata": {},
   "outputs": [],
   "source": [
    "#14) Update these variable names to match EXACTLY your .csv file headers\n",
    "\n",
    "x = df[\"Age of Death\"].values.reshape(-1, 1)\n",
    "y = df[\"ABeta42\"].values"
   ]
  },
  {
   "cell_type": "markdown",
   "metadata": {},
   "source": [
    "Next we will perform a linear regression on our data. "
   ]
  },
  {
   "cell_type": "code",
   "execution_count": null,
   "metadata": {},
   "outputs": [],
   "source": [
    "#15) Perform the linear regression\n",
    "\n",
    "model = LinearRegression()\n",
    "model.fit(x, y)\n",
    "\n",
    "slope = model.coef_[0]\n",
    "intercept = model.intercept_\n",
    "r2 = model.score(x, y)"
   ]
  },
  {
   "cell_type": "markdown",
   "metadata": {},
   "source": [
    "Next we will make our scatterplot and add our regression line and show the equation and r^2 value."
   ]
  },
  {
   "cell_type": "code",
   "execution_count": null,
   "metadata": {},
   "outputs": [
    {
     "data": {
      "image/png": "[encoded data removed]",
      "text/plain": [
       "<Figure size 640x480 with 1 Axes>"
      ]
     },
     "metadata": {},
     "output_type": "display_data"
    }
   ],
   "source": [
    "#16) Make scatterplot\n",
    "plt.scatter(x, y, label=\"Data\")\n",
    "plt.plot(x, model.predict(x), color=\"red\")\n",
    "\n",
    "# Annotate equation\n",
    "equation = f\"y = {slope:.2f}x + {intercept:.2f}\\nR² = {r2:.2f}\"\n",
    "plt.text(x.min(), y.max(), equation, color=\"red\", fontsize=12, verticalalignment='top')\n",
    "\n",
    "# Annotate scatterplot with labeles and title\n",
    "plt.xlabel(\"Age of Death\")\n",
    "plt.ylabel(\"ABeta42\")\n",
    "plt.title(\"Age of Death vs. ABeta42\")\n",
    "plt.show()"
   ]
  },
  {
   "cell_type": "markdown",
   "metadata": {},
   "source": [
    "## Verify and validate your analysis: \n",
    "*(Describe how you checked to see that your analysis gave you an answer that you believe (verify). Describe how your determined if your analysis gave you an answer that is supported by other evidence (e.g., a published paper).*"
   ]
  },
  {
   "cell_type": "markdown",
   "metadata": {},
   "source": [
    "## Conclusions and Ethical Implications: \n",
    "*(Think about the answer your analysis generated, draw conclusions related to your overarching question, and discuss the ethical implications of your conclusions.*"
   ]
  },
  {
   "cell_type": "markdown",
   "metadata": {},
   "source": [
    "## Limitations and Future Work: \n",
    "*(Think about the answer your analysis generated, draw conclusions related to your overarching question, and discuss the ethical implications of your conclusions.*"
   ]
  },
  {
   "cell_type": "markdown",
   "metadata": {},
   "source": [
    "## NOTES FROM YOUR TEAM: \n",
    "*This is where our team is taking notes and recording activity.*"
   ]
  },
  {
   "cell_type": "markdown",
   "metadata": {},
   "source": [
    "## QUESTIONS FOR YOUR TA: \n",
    "*These are questions we have for our TA.*"
   ]
  },
  {
   "cell_type": "code",
   "execution_count": null,
   "metadata": {},
   "outputs": [],
   "source": []
  }
 ],
 "metadata": {
  "kernelspec": {
   "display_name": "base",
   "language": "python",
   "name": "python3"
  },
  "language_info": {
   "codemirror_mode": {
    "name": "ipython",
    "version": 3
   },
   "file_extension": ".py",
   "mimetype": "text/x-python",
   "name": "python",
   "nbconvert_exporter": "python",
   "pygments_lexer": "ipython3",
   "version": "3.12.7"
  }
 },
 "nbformat": 4,
 "nbformat_minor": 4
}
