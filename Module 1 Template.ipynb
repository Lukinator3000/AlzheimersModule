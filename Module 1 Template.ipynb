{
 "cells": [
  {
   "cell_type": "markdown",
   "id": "07d08828-39be-453d-9c15-7d0737ceb72f",
   "metadata": {},
   "source": [
    "# Module_1:\n",
    "\n",
    "## Team Members:\n",
    "*Logan Heselton and Luke Shee*\n",
    "\n",
    "## Project Title:\n",
    "*Alzheimer's Disease: The Effect of Education on Tau Score*\n"
   ]
  },
  {
   "cell_type": "markdown",
   "id": "8372d796-186a-4ae2-9b4f-0065979e555a",
   "metadata": {},
   "source": [
    "## Project Goal:\n",
    "This project seeks to examine if and how the highest level of education acheived by Alzheimer's patients affects their Tau score, both total and phosphorylated.\n"
   ]
  },
  {
   "attachments": {},
   "cell_type": "markdown",
   "id": "91408b75-185a-4d66-9ce7-7c7aabbde5e1",
   "metadata": {},
   "source": [
    "## Disease Background: \n",
    "*Fill in information about 11 bullets:*\n",
    "\n",
    "* Prevalence & incidence\n",
    "* Economic burden\n",
    "* Risk factors (genetic, lifestyle) \n",
    "* Societal determinants\n",
    "* Symptoms\n",
    "* Diagnosis\n",
    "* Standard of care treatments (& reimbursement) \n",
    "* Disease progression & prognosis\n",
    "* Continuum of care providers\n",
    "* Biological mechanisms (anatomy, organ physiology, cell & molecular physiology)\n",
    "* Clinical Trials/next-gen therapies"
   ]
  },
  {
   "cell_type": "markdown",
   "id": "3b99aefb-cb03-4bd8-b972-437eb0e02dfe",
   "metadata": {},
   "source": [
    "## Data-Set: \n",
    "*(Describe the data set(s) you will analyze. Cite the source(s) of the data.)*\n",
    "## Data-Set: \n",
    "*(Describe the data set(s) you will analyze. Cite the source(s) of the data.)*\n",
    " * The data sets we are analyzing are MetaData and LuminexData\n",
    "   * MetaData is the data set that describes who the patient is and their medical/neuropathological background.\n",
    "   * LuminexData is the date set that measures protein biomarkers in the brain tissue (amyloid-beta and tau)\n",
    " * Questions to ask about the data sets:\n",
    "   * Logan's questions:\n",
    "       * \n",
    "   * Luke's questions:"
   ]
  },
  {
   "cell_type": "code",
   "execution_count": null,
   "id": "7f51ea17",
   "metadata": {
    "vscode": {
     "languageId": "plaintext"
    }
   },
   "outputs": [],
   "source": [
    "#data set inspection for MetaData\n",
    "import csv\n",
    "\n",
    "with open(\"UpdatedMetaData.csv\", newline=\"\") as f:\n",
    "    reader = csv.reader(f)\n",
    "    \n",
    "    # 1. What are the column headers?\n",
    "    headers = next(reader)  # Get the first row\n",
    "    print(\"Column Headers:\")\n",
    "    for h in headers:\n",
    "        print(h)\n",
    "    \n",
    "    # 2. What are the rows?\n",
    "    rows = list(reader)\n",
    "    print(\"\\nFirst 5 Rows:\")\n",
    "    for row in rows[:5]:\n",
    "        print(row)\n",
    "    \n",
    "    # 3. How many rows are there?\n",
    "    print(\"\\nNumber of rows:\", len(rows))\n",
    "#source:chat"
   ]
  },
  {
   "cell_type": "markdown",
   "id": "f4cde622-5508-4a54-aba8-77b454138bff",
   "metadata": {},
   "source": [
    "## Data Analyis: \n",
    "*(Describe how you analyzed the data. This is where you should intersperse your Python code so that anyone reading this can run your code to perform the analysis that you did, generate your figures, etc.)*"
   ]
  },
  {
   "cell_type": "markdown",
   "id": "5c67b6a4-ec94-4d28-b2a7-f6b860495118",
   "metadata": {},
   "source": [
    "## Verify and validate your analysis: \n",
    "*(Describe how you checked to see that your analysis gave you an answer that you believe (verify). Describe how your determined if your analysis gave you an answer that is supported by other evidence (e.g., a published paper).*"
   ]
  },
  {
   "cell_type": "markdown",
   "id": "2736cf95-2b93-444f-90c8-d40a54fc1df1",
   "metadata": {},
   "source": [
    "## Conclusions and Ethical Implications: \n",
    "*(Think about the answer your analysis generated, draw conclusions related to your overarching question, and discuss the ethical implications of your conclusions.*"
   ]
  },
  {
   "cell_type": "markdown",
   "id": "f023b735-6efb-43ed-a03d-eb4a9cdb734e",
   "metadata": {},
   "source": [
    "## Limitations and Future Work: \n",
    "*(Think about the answer your analysis generated, draw conclusions related to your overarching question, and discuss the ethical implications of your conclusions.*"
   ]
  }
 ],
 "metadata": {
  "kernelspec": {
   "display_name": "Python [conda env:base] *",
   "language": "python",
   "name": "conda-base-py"
  },
  "language_info": {
   "codemirror_mode": {
    "name": "ipython",
    "version": 3
   },
   "file_extension": ".py",
   "mimetype": "text/x-python",
   "name": "python",
   "nbconvert_exporter": "python",
   "pygments_lexer": "ipython3",
   "version": "3.13.5"
  }
 },
 "nbformat": 4,
 "nbformat_minor": 5
}
