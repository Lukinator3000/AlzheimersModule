{
 "cells": [
  {
   "cell_type": "markdown",
   "id": "07d08828-39be-453d-9c15-7d0737ceb72f",
   "metadata": {},
   "source": [
    "# Module_1:\n",
    "\n",
    "## Team Members:\n",
    "*Logan Heselton and Luke Shee*\n",
    "\n",
    "## Project Title:\n",
    "*Alzheimer's Disease: The Effect of Education on Tau Score*\n"
   ]
  },
  {
   "cell_type": "markdown",
   "id": "8372d796-186a-4ae2-9b4f-0065979e555a",
   "metadata": {},
   "source": [
    "## Project Goal:\n",
    "This project seeks to examine if and how the highest level of education acheived by Alzheimer's patients (in America) affects their Tau score, both total and phosphorylated.\n"
   ]
  },
  {
   "attachments": {},
   "cell_type": "markdown",
   "id": "91408b75-185a-4d66-9ce7-7c7aabbde5e1",
   "metadata": {},
   "source": [
    "## Disease Background:\n",
    "### Prevalence & incidence\n",
    "* Prevalence: ~6.9 million people currently living with Alzheimer's disease in the U.S. (varies by source, but sources suggest around 6.8-7.2 million people)\n",
    "        * Source: https://pubmed.ncbi.nlm.nih.gov/38689398/\n",
    "* Incidence: ~450,000-500,000 thousand new cases every year in the U.S.\n",
    "    * Source: https://www.alzsd.org/resources/facts-stats/\n",
    "### Economic burden\n",
    "* Timeline is from 2016 to 2060 (future estimations)\n",
    "    * 2016\n",
    "        * The estimated per-patient cost of formal care was $28,078 (confidence interval range: $25,893–$30,433)\n",
    "        * The estimated per-patient cost of informal care (replacement cost and forgone wages) was $36,667 (confidence interval: $34,025–$39,473) and $15,792 (confidence interval: $12,980–$18,713), respectively.\n",
    "        * Source: https://www.nature.com/articles/s41514-024-00136-6\n",
    "    * 2020\n",
    "        * Aggregate formal + informal care costs using replacement cost and forgone wage methods were $196 billion (confidence interval: $179–$213 billion), $450 billion (confidence interval: $424–$478 billion), and $305 billion (confidence interval: $278–$333 billion), respectively\n",
    "        * Source https://www.nature.com/articles/s41514-024-00136-6\n",
    "    * 2025 (current)\n",
    "        * Medical and long-term care for patients with dementia will cost the United States $232 billion this year, including $52 billion paid out of pocket by patients and their families.\n",
    "            * More than two-thirds of the total cost of care is paid for by Medicare ($106 billion) and Medicaid ($58 billion).\n",
    "        * Source: https://schaeffer.usc.edu/research/dementia-alzheimers-cost-model-2025/\n",
    "    * 2060\n",
    "        * Expectation is that the above numbers in 2020 were going to increase to $1.4 trillion (confidence interval: $837 billion–$2.2 trillion), $3.3 trillion (confidence interval: $1.9–$5.1 trillion), and $2.2 trillion (confidence interval: $1.3–$3.5 trillion), respectively.\n",
    "        * Source: https://www.nature.com/articles/s41514-024-00136-6\n",
    "### Risk factors (genetic, lifestyle)\n",
    "* Genetic:\n",
    "    * Apolipoprotein E (APOE)\n",
    "        * APOE e2: Least common form of the gene; reduces the risk for Alzheimers\n",
    "        * APOE e4: More common form of the gene; increases the risk for Alzheimers; linked to more severe forms of Alzheimers \n",
    "        * APOE e3: Most common form of the gene; doesn’t seem to affect the risk for Alzheimers \n",
    "    * A child whose biological parent carries a genetic variant for one of these three genes has a 50/50 chance of inheriting that altered version of the gene. If the variant is inherited, the child has a very strong probability of developing Alzheimer’s before age 65 and sometimes much earlier.\n",
    "    * Source: https://www.nia.nih.gov/health/alzheimers-causes-and-risk-factors/what-causes-alzheimers-disease\n",
    "* Lifestyle: \n",
    "    * Age\n",
    "        * Most individuals with the disease are 65 and older. After age 65, the risk of Alzheimer's doubles every five years. After the age of 85, the risk increases to nearly one-third.\n",
    "    * Head injuries\n",
    "        * There is a link between head injury and future risk of dementia.\n",
    "    * Other factors:\n",
    "        * Unmanaged chronic health issues, such as high blood pressure or hearing loss\n",
    "        * Physical inactivity\n",
    "        * Unhealthy diet\n",
    "        * Alcohol misuse\n",
    "        * Smoking\n",
    "        * Not getting enough sleep or not sleeping well\n",
    "        * Social isolation\n",
    "        * Lack of mental stimulation\n",
    "    * Source: https://www.nia.nih.gov/health/alzheimers-causes-and-risk-factors/what-causes-alzheimers-disease \n",
    "### Societal determinants\n",
    "### Symptoms\n",
    "### Diagnosis\n",
    "### Standard of care treatments (& reimbursement)\n",
    "* Treatments include drugs that regulate cognitive and behavioral symptoms (e.g. Galantamine, benzgalantamine, rivastigmine, and donepezil are cholinesterase). Other FDA-approved drugs like lecanemab and donanemab reduce beta-amyloid plaques in early Alzheimer’s stage to slow the cognitive decline (there’s also some insurance to cover the drug costs).\n",
    "* In moderate to severe cases, memamtine and other medications can be prescribed to regulate glutamate in the brain, reducing Alzheimer’s symptoms to allow patients to be able to do more ordinary tasks, like going to the bathroom independently.\n",
    "    * Dosage of such medications vary based on how well patients tolerate them, starting with low doses and gradually increasing if tolerated. They also have side effects, including nausea, vomiting, confusion, headaches, dizziness, loss of appetite, etc.\n",
    "    * Source: https://www.nia.nih.gov/health/alzheimers-treatment/how-alzheimers-disease-treated\n",
    "* Most of Alzheimer’s care can be paid for with Medicare primarily and other private health care insurance for those 65+ years old, at least for initial costs. Medicaid and long-term plans help cover Alzheimer’s expenses in the long term.\n",
    "    * Source: Google AI and https://www.alz.org/help-support/caregiving/financial-legal-planning/paying-for-care\n",
    "### Disease progression & prognosis\n",
    "* General 5 stages of Alzheimer’s (generally lasts 3-20+ years)\n",
    "    * 1. Preclinical Alzheimer's:\n",
    "        * Stage long before noticeable symptoms, usually only identified in research settings, that can last for many years. Tau proteins (total Tau and phosphorylated Tau) aggregate into tangles within neurons, hindering their functioning, and Beta-amyloid plaques grow between synapses to disturb neuron communication. Patients start taking tests to see signs of Alzheimer’s risk, which include blood sample biomarkers, brain imaging, and genetic tests.\n",
    "    * 2. Mild cognitive impairment due to Alzheimer's:\n",
    "        * Patients start having mild impairments in memory and thinking ability, such as memory lapses during conversation/events and trouble judging or planning tasks. Doesn’t have much effect on work or relationships.\n",
    "    * 3. Mild dementia due to Alzheimer's:\n",
    "        * This is when the patient shows difficulties doing daily tasks due to signs of dementia, mainly bad memory and/or cognitive capacity (possibly some personality changes to be more withdrawn or irritable). Alzheimer’s is likely to be diagnosed at this stage.\n",
    "    * 4. Moderate dementia due to Alzheimer's:\n",
    "        * The patient’s dementia worsens, amplifying the prior symptoms and calling for the need of a care person to help the patient do some daily activities. They also keep growing more irritable and unnecessarily suspicious about close ones.\n",
    "    * 5. Severe dementia due to Alzheimer's: \n",
    "        * Patient starts losing the ability to communicate and execute regular physical activities like walking, sitting, and eventually swallowing and bowel functioning.\n",
    "### Continuum of care providers\n",
    "* 1. Early Stage\n",
    "    * For the Alzheimer’s patients in America, continuum of care starts with the diagnosis. The supportive care team usually includes a primary care physician or specialist, to provide medical & symptom knowledge and management, as well as a social worker from a nonprofit organization or community service, to assist in Alzheimer’s guidance, resources, and coping for the family.\n",
    "        * Specialists may include neurologists (oversee disorders in brain and nervous system), geriatricians (cares for older adults), geriatric psychiatrists (gives mental and emotional health care for older adults), neuropsychologists (specializes in standardized assessment of cognition and behavior, verbatim from gov source), speech and physical therapists (helps improve patients’ communication and activity abilities)\n",
    "* 2. Mid Stage\n",
    "    * The Alzheimer’s symptoms start progressing, so patients start needing outside help for their everyday activities. Although family members may play the caregivers for the patients, other hired care services like visiting nurses and home health aides can assist in tasks like toileting, dressing, bathing, shopping, cooking, and light housekeeping for the Alzheimer’s patients. Caring family members may also hire short-term respite care to temporarily support the patients while the primary caregivers take a break (alzoc).Caregivers can also consider sending patients to Adult Day Care, which offers supervised physical and social activities as medical treatment and therapeutic recreation.\n",
    "* 3. Late Stage\n",
    "    * By this phase, the symptoms of the Alzheimer's patient may make them no longer able to stay at home safely due to difficulty swallowing or other dementia-induced accidents. The supportive care team and/or close family members may transition the patient to hospice (end-of-life) care, nursing home, or other long-term residential facility to provide them 24/7 medical care and supervision.\n",
    "    * Source: Google AI, https://www.alzheimers.gov/professionals/health-care-providers, and https://www.hospicechesapeake.org/2022/06/continuum-of-care-offers-dementia-patients-better-quality-of-life/\n",
    "    chrome-extension://efaidnbmnnnibpcajpcglclefindmkaj/https://www.alzoc.org/wp-content/uploads/2015/11/RESPITE-Continuum-of-Care-AlzOC-1.2016-exp-6.2016.pdf\n",
    "### Biological mechanisms (anatomy, organ physiology, cell & molecular physiology)\n",
    "* Alzheimer’s is a disease targeting the brain, namely its neuron cells that are key to its functionality. Neurons work through communication: a neuron receives cellular signals, in the form of neurotransmitter chemicals sent by other neurons binding to the receptors within the branch-like dendrites of the said neuron, that causes it to send an electric charge down through its cable-like axon neck and send out more neurotransmitters to signal other neurons in the in-between space, called synapses. This communication among millions of neurons, with the aid of consistent glucose sustenance, astrocyte and microglia support, and brain usage, eventually results in humans’ everyday cognitive abilities.\n",
    "* Alzheimer’s disease has multiple observed brain changes that may lead up to and cause the condition, such as…\n",
    "    * Beta-amyloid plaques: beta-amyloid is a protein that clumps in the brain around neurons, namely in-between neuron synapses that interferes with their cellular communication. Too much of these plaques, especially with beta-amyloid 42 form, can greatly hinder neuron functionality and cause cognitive decline.\n",
    "    * Tau tangles: tau is another protein that usually stabilizes microtubules in healthy neurons. In Alzheimer’s patients though, tau detaches from the microtubules and groups together to form neurofibrillary tangles inside neurons, perhaps spurred by overaccumulation of beta-amyloid plaques. These tangles then harm neurons by blocking their transport and communication systems from within.\n",
    "    * Connection Loss and Dysfunction: As neurons stop functioning properly, neuron connections and networks start falling apart, causing brain regions to shrink and cognitive ability to decline.\n",
    "    * Chronic Inflammation: initially-helpful glial cells that begin malfunctioning may induce inflammation in the brain due to lack of debris disposal and management.\n",
    "    * Vascular Issues: since the brain relies heavily on blood and the glucose it provides to keep neurons healthy and active, cardiovascular issues hindering that blood glucose supply may lead to brain inflammation and later neural connection breakdowns.\n",
    "* Source: https://www.nia.nih.gov/health/alzheimers-causes-and-risk-factors/what-happens-brain-alzheimers-disease\n",
    "### Clinical Trials/next-gen therapies"
   ]
  },
  {
   "cell_type": "markdown",
   "id": "3b99aefb-cb03-4bd8-b972-437eb0e02dfe",
   "metadata": {},
   "source": [
    "## Data-Set: Meta\n",
    "  * MetaData is the data set that describes who the patient is and their medical/neuropathological background.\n",
    "      * How it was collected:\n",
    "        * Brains were collected using highly optimized brain preparation methods\n",
    "        * Donors were included if death occurred within the specific time of data collection\n",
    "            * 84 donors\n",
    "            * Age: minimum 65 years (mean of data set was 88 years)\n",
    "            * Sex: both sexes included (51 females, 33 males )\n",
    "      * Overall Content: \n",
    "        * Demographic info (age, sex, race), study source (ACT/ADRC), pathology measures (Braak stage, CERAD score, Thal phase), comorbidities (Lewy body, LATE, microinfarcts, atherosclerosis, arteriolosclerosis), molecular quality metrics (RIN, brain pH), and whether donors were “severely affected\" or not. \n",
    "      * Techniques\n",
    "        * Donor Recruitment: Patients were recruited through the Adult Changes in Thought (ACT) study and the University of Washington Alzheimer’s Disease Research Center (ADRC).\n",
    "        * Brain collection: Postmortem brain samples were collected; tissue was processed for histology, RNA/DNA extraction, and sequencing.\n",
    "        * Neuropathology Assessment: \n",
    "          * Immunohistochemistry (IHC): Used to stain brain sections for hallmark Alzheimer’s pathologies\n",
    "          * Used staging systems\n",
    "          * Quantitative Neuropathology: Counts of plaques, tangles, neuronal density, and comorbidities\n",
    "          * Molecular Quality Control: RNA integrity number (RIN) and brain pH were measured to ensure sample quality for sequencing.\n",
    "      * Units\n",
    "        * Age (and age at death): in years\n",
    "        * Categorical: sex, race, etc\n",
    "        * Quantative (reported as integers): RIN, cognitive scores, and counts of microinfarcts\n",
    "      * Source: https://www.nature.com/articles/s41593-024-01774-5 ; csv file: UpdatedMetaData.csv\n",
    "\n",
    "## Data-Set: Luminex\n",
    "  * LuminexData is the data set that measures protein biomarkers in the brain tissue (amyloid-beta and tau)\n",
    "    * How it was collected: \n",
    "      * Brain tissue samples from 84 postmortem donors were processed to extract proteins.\n",
    "        * Protein lysates were then analyzed using bead-based immunoassays on the Luminex platform, which allows multiplexed measurement of Alzheimer’s disease biomarkers.\n",
    "        * Each donor corresponds to one record in the dataset, matched by Donor ID. \n",
    "    * Overall content: \n",
    "      * The dataset contains quantitative values for four core Alzheimer’s disease biomarkers:\n",
    "        * Aβ40 (amyloid-beta 40)\n",
    "        * Aβ42 (amyloid-beta 42)\n",
    "        * tTau (total Tau)\n",
    "        * pTau (phosphorylated Tau)\n",
    "    * Techniques\n",
    "      * Multiplex Bead-Based Immunoassay: Antibody-coated beads bind to specific proteins in brain lysates.\n",
    "      * Luminex xMAP Technology: Each bead set carries a unique fluorescent signature, and bound proteins are detected via reporter fluorescence.\n",
    "      * Fluorescence Detection: A dual-laser flow cytometry system reads bead signatures and reporter intensity, converting them into quantitative values via calibration curves. \n",
    "    * Units\n",
    "      * All biomarker concentrations are expressed in picograms per microgram (pg/µg) of total protein.\n",
    "    * Source: https://www.nature.com/articles/s41593-024-01774-5 ; csv file: UpdatedLuminex.csv\n"
   ]
  },
  {
   "cell_type": "markdown",
   "id": "f4cde622-5508-4a54-aba8-77b454138bff",
   "metadata": {},
   "source": [
    "## Data Analysis:\n",
    "*(Describe how you analyzed the data. This is where you should intersperse your Python code so that anyone reading this can run your code to perform the analysis that you did, generate your figures, etc.)*"
   ]
  },
  {
   "cell_type": "markdown",
   "id": "5c67b6a4-ec94-4d28-b2a7-f6b860495118",
   "metadata": {},
   "source": [
    "## Verify and validate your analysis: \n",
    "*(Describe how you checked to see that your analysis gave you an answer that you believe (verify). Describe how your determined if your analysis gave you an answer that is supported by other evidence (e.g., a published paper).*"
   ]
  },
  {
   "cell_type": "markdown",
   "id": "2736cf95-2b93-444f-90c8-d40a54fc1df1",
   "metadata": {},
   "source": [
    "## Conclusions and Ethical Implications: \n",
    "*(Think about the answer your analysis generated, draw conclusions related to your overarching question, and discuss the ethical implications of your conclusions.*"
   ]
  },
  {
   "cell_type": "markdown",
   "id": "f023b735-6efb-43ed-a03d-eb4a9cdb734e",
   "metadata": {},
   "source": [
    "## Limitations and Future Work: \n",
    "*(Think about the answer your analysis generated, draw conclusions related to your overarching question, and discuss the ethical implications of your conclusions.*"
   ]
  },
  {
   "cell_type": "markdown",
   "id": "ce13accb",
   "metadata": {},
   "source": [
    "## Notes from Us: \n",
    "\n",
    "### Current Progress\n",
    "Most of our progress was in researching for the Disease Background bullets above, Logan doing the first 5 bullets and Luke doing the last 5 (and one of us eventually doing the middle one afterwards). Logan checked and executed the Python code above to filter the provided dataset, and both of us brainstormed in class what our project question/objective would be through browsing the two datasets.\n",
    "\n",
    "### Extra project questions we thought about \n",
    "- Does brain pH affect how severe dementia is (in terms of Tau score, demetia diagnosis or age of death)?\n",
    "- Does presence of dementia correlate to severity in arteriolosclerosis?\n",
    "- Does betaamyloid 40 or 42 correlate to higher overall AD neoropathological change in patients?"
   ]
  },
  {
   "cell_type": "markdown",
   "id": "0c53b885",
   "metadata": {},
   "source": [
    "## Questions for the TA:\n",
    "- Just to make sure, how should we accurately cite the two datasets already given to us in Canvas?\n",
    "- Should we care greatly about the grammar and overall diction of our Jupyter notes, or should we just focus on jotting down concise and readable notes for these sections?\n",
    "- How should we cite the sources we used for the Disease Background section, and where should we put the citations?\n",
    "- Is it ok if our question studies both tTau and pTau score, or should we only focus on one of them?"
   ]
  }
 ],
 "metadata": {
  "kernelspec": {
   "display_name": "Python [conda env:base] *",
   "language": "python",
   "name": "conda-base-py"
  },
  "language_info": {
   "codemirror_mode": {
    "name": "ipython",
    "version": 3
   },
   "file_extension": ".py",
   "mimetype": "text/x-python",
   "name": "python",
   "nbconvert_exporter": "python",
   "pygments_lexer": "ipython3",
   "version": "3.13.5"
  }
 },
 "nbformat": 4,
 "nbformat_minor": 5
}
